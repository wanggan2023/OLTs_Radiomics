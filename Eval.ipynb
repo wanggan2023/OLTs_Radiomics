{
 "cells": [
  {
   "cell_type": "code",
   "execution_count": 12,
   "id": "d128478c",
   "metadata": {},
   "outputs": [],
   "source": [
    "import numpy as np\n",
    "\n",
    "def seg_eval(pred, label, clss=[0, 1]):\n",
    "    \"\"\"\n",
    "    calculate the dice between prediction and ground truth\n",
    "    input:\n",
    "        pred: predicted mask\n",
    "        label: groud truth\n",
    "        clss: eg. [0, 1] for binary class\n",
    "    \"\"\"\n",
    "    Ncls = len(clss)\n",
    "    dices = np.zeros(Ncls)\n",
    "    [depth, height, width] = pred.shape\n",
    "    for i in range(label.shape[-1]):\n",
    "        if np.sum(label[:,:,i]) == 0:\n",
    "            pred[:,:,i] = 0\n",
    "    for idx, cls in enumerate(clss):\n",
    "        # binary map\n",
    "        pred_cls = np.zeros([depth, height, width])\n",
    "        pred_cls[np.where(pred == cls)] = 1\n",
    "        label_cls = np.zeros([depth, height, width])\n",
    "        label_cls[np.where(label == cls)] = 1\n",
    "\n",
    "        # cal the inter & conv\n",
    "        s = pred_cls + label_cls\n",
    "        inter = len(np.where(s >= 2)[0])\n",
    "        conv = len(np.where(s >= 1)[0]) + inter\n",
    "        try:\n",
    "            dice = 2.0 * inter / conv\n",
    "        except:\n",
    "            print(\"conv is zeros when dice = 2.0 * inter / conv\")\n",
    "            dice = -1\n",
    "\n",
    "        dices[idx] = dice\n",
    "\n",
    "    return dices, pred"
   ]
  },
  {
   "cell_type": "code",
   "execution_count": 22,
   "id": "91f89b62",
   "metadata": {},
   "outputs": [],
   "source": [
    "import os\n",
    "import glob\n",
    "pred = glob.glob(r'D:\\20220421-FANBIN\\pred/*.nii.gz')\n",
    "gt = [os.path.join(r'D:/20220421-FANBIN/masks_12/', os.path.basename(p))for p in pred]\n",
    "os.makedirs(r'D:/20220421-FANBIN/post_pred', exist_ok=True)"
   ]
  },
  {
   "cell_type": "code",
   "execution_count": 23,
   "id": "6bbf8b0b",
   "metadata": {},
   "outputs": [
    {
     "name": "stdout",
     "output_type": "stream",
     "text": [
      "D:\\20220421-FANBIN\\pred\\1708204504.nii.gz D:/20220421-FANBIN/masks_12/1708204504.nii.gz\n",
      "[0.89878217 0.68985507]\n",
      "D:\\20220421-FANBIN\\pred\\17098412.nii.gz D:/20220421-FANBIN/masks_12/17098412.nii.gz\n",
      "[0.85528814 0.765625  ]\n",
      "D:\\20220421-FANBIN\\pred\\1710035907.nii.gz D:/20220421-FANBIN/masks_12/1710035907.nii.gz\n",
      "[0.77162414 0.67508205]\n",
      "[0.84189815 0.71018737]\n",
      "0.776042763169187\n"
     ]
    }
   ],
   "source": [
    "import nibabel as nib\n",
    "\n",
    "dice = []\n",
    "for p, g in zip(pred, gt):\n",
    "    print(p, g)\n",
    "    p_a = np.array(nib.load(p).dataobj)\n",
    "    g_img = nib.load(g)\n",
    "    g_a = np.array(g_img.dataobj)\n",
    "    metric, post_pred = seg_eval(p_a, g_a, clss=[1,2])\n",
    "    dice.append(metric)\n",
    "    img = nib.Nifti1Image(post_pred, g_img.affine)\n",
    "    nib.save(img, f\"D:/20220421-FANBIN/post_pred/{os.path.basename(g)}\")\n",
    "    print(dice[-1])\n",
    "print(np.mean(np.array(dice), axis=0))\n",
    "print(np.mean(np.array(dice)[:,[True, True]]))"
   ]
  },
  {
   "cell_type": "code",
   "execution_count": null,
   "id": "69948783",
   "metadata": {},
   "outputs": [],
   "source": [
    "D:\\20220421-FANBIN\\pred\\1807270550.nii.gz D:/20220421-FANBIN/masks/1807270550.nii.gz\n",
    "[0.75288531 0.69087523 0.74632035]\n",
    "D:\\20220421-FANBIN\\pred\\19043140.nii.gz D:/20220421-FANBIN/masks/19043140.nii.gz\n",
    "[0.84062313 0.65756469 0.83737024]\n",
    "D:\\20220421-FANBIN\\pred\\1906088798.nii.gz D:/20220421-FANBIN/masks/1906088798.nii.gz\n",
    "[0.79867841 0.46977673 0.73028238]\n",
    "\n",
    "--校验前\n",
    "[0.79739562 0.60607222 0.77132432]\n",
    "0.784359969839653\n",
    "\n",
    "\n",
    "D:\\20220421-FANBIN\\pred\\1807270550.nii.gz D:/20220421-FANBIN/masks/1807270550.nii.gz\n",
    "[0.91225827 0.76211997 0.75947137]\n",
    "D:\\20220421-FANBIN\\pred\\19043140.nii.gz D:/20220421-FANBIN/masks/19043140.nii.gz\n",
    "[0.86272098 0.66420783 0.83737024]\n",
    "D:\\20220421-FANBIN\\pred\\1906088798.nii.gz D:/20220421-FANBIN/masks/1906088798.nii.gz\n",
    "[0.87384022 0.50586396 0.73099415]\n",
    "\n",
    "--校验后\n",
    "[0.88293983 0.64406392 0.77594525]\n",
    "0.8294425393681478"
   ]
  }
 ],
 "metadata": {
  "kernelspec": {
   "display_name": "Python 3 (ipykernel)",
   "language": "python",
   "name": "python3"
  },
  "language_info": {
   "codemirror_mode": {
    "name": "ipython",
    "version": 3
   },
   "file_extension": ".py",
   "mimetype": "text/x-python",
   "name": "python",
   "nbconvert_exporter": "python",
   "pygments_lexer": "ipython3",
   "version": "3.7.12"
  }
 },
 "nbformat": 4,
 "nbformat_minor": 5
}
