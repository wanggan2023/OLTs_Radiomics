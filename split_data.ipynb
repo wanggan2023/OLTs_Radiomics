{
 "cells": [
  {
   "cell_type": "code",
   "execution_count": 1,
   "id": "81d5de9c",
   "metadata": {},
   "outputs": [
    {
     "name": "stdout",
     "output_type": "stream",
     "text": [
      "1904099735数据存在缺失！\n",
      "1910221276数据存在缺失！\n",
      "新数据：1911116371数据存在缺失！\n",
      "2001209677数据存在缺失！\n",
      "2005159506数据存在缺失！\n",
      "新数据：chuping-f-L数据存在缺失！\n",
      "sunjinzhi-f-坏了数据存在缺失！\n",
      "新数据：zhaochuanrong-m数据存在缺失！\n"
     ]
    }
   ],
   "source": [
    "import os\n",
    "import shutil\n",
    "import nibabel as nib\n",
    "import numpy as np\n",
    "\n",
    "mydir = r'D:\\20220421-FANBIN\\CTOUT'\n",
    "outdir = r'D:\\20220421-FANBIN'\n",
    "\n",
    "img_dir = os.path.join(outdir, 'images')\n",
    "msk_dir = os.path.join(outdir, 'masks')\n",
    "os.makedirs(img_dir, exist_ok=True)\n",
    "os.makedirs(msk_dir, exist_ok=True)\n",
    "\n",
    "def get_array(path):\n",
    "    return np.array(nib.load(path).dataobj)\n",
    "\n",
    "for i in os.listdir(mydir):\n",
    "    if os.path.exists(os.path.join(mydir, i, 'PD-COR.nii.gz')) and os.path.exists(os.path.join(mydir, i, 'Talus-label.nii.gz')):\n",
    "        shutil.copy(os.path.join(mydir, i, 'PD-COR.nii.gz'), os.path.join(img_dir, f\"{i}.nii.gz\"))\n",
    "        shutil.copy(os.path.join(mydir, i, 'Talus-label.nii.gz'), os.path.join(msk_dir, f\"{i}.nii.gz\"))\n",
    "    elif os.path.exists(os.path.join(mydir, i, 'Segmentation.seg.nii.gz')):\n",
    "        has = False\n",
    "        seg = get_array(os.path.join(mydir, i, 'Segmentation.seg.nii.gz'))\n",
    "        for f in os.listdir(os.path.join(mydir, i)):\n",
    "            if f != 'Segmentation.seg.nii.gz':\n",
    "                img = get_array(os.path.join(mydir, i, f))\n",
    "                if seg.shape == img.shape:\n",
    "                    has = True\n",
    "                    shutil.copy(os.path.join(mydir, i, f), os.path.join(img_dir, f\"{i}.nii.gz\"))\n",
    "                    shutil.copy(os.path.join(mydir, i, 'Segmentation.seg.nii.gz'), os.path.join(msk_dir, f\"{i}.nii.gz\"))\n",
    "                    break\n",
    "        if not has:\n",
    "            print(f'新数据：{i}数据存在缺失！')\n",
    "    else:\n",
    "        print(f'{i}数据存在缺失！')\n"
   ]
  },
  {
   "cell_type": "code",
   "execution_count": 1,
   "id": "c876cd6d",
   "metadata": {},
   "outputs": [],
   "source": [
    "import os\n",
    "import shutil\n",
    "import numpy as np\n",
    "import SimpleITK as sitk\n",
    "\n",
    "root = r'D:/20220421-FANBIN/masks'\n",
    "new_root = os.path.join(os.path.dirname(root), 'masks_12')\n",
    "os.makedirs(new_root, exist_ok=True)\n",
    "for m in os.listdir(root):\n",
    "    origin_img = sitk.ReadImage(os.path.join(root, m))  # 读取原始文件\n",
    "    \n",
    "    mask_arry = sitk.GetArrayFromImage(origin_img)\n",
    "    new_mask = np.zeros_like(mask_arry)\n",
    "    new_mask[mask_arry == 1] = 1\n",
    "    new_mask[mask_arry == 3] = 2\n",
    "    \n",
    "    origin = origin_img.GetOrigin()  # 这三句是获取的原始图像文件的位置和方向吧。\n",
    "    spacing = origin_img.GetSpacing()\n",
    "    direction = origin_img.GetDirection()\n",
    "\n",
    "    w = sitk.GetImageFromArray(new_mask)\n",
    "\n",
    "    w.SetOrigin(origin)  # 将自己的文件处理成和官方一致的位置坐标系\n",
    "    w.SetSpacing(spacing)\n",
    "    w.SetDirection(direction)\n",
    "    sitk.WriteImage(w, os.path.join(new_root, m))  # 处理完之后保存到相应的合适位置。"
   ]
  },
  {
   "cell_type": "code",
   "execution_count": null,
   "id": "e2e925cd",
   "metadata": {},
   "outputs": [],
   "source": []
  }
 ],
 "metadata": {
  "kernelspec": {
   "display_name": "Python 3 (ipykernel)",
   "language": "python",
   "name": "python3"
  },
  "language_info": {
   "codemirror_mode": {
    "name": "ipython",
    "version": 3
   },
   "file_extension": ".py",
   "mimetype": "text/x-python",
   "name": "python",
   "nbconvert_exporter": "python",
   "pygments_lexer": "ipython3",
   "version": "3.7.12"
  }
 },
 "nbformat": 4,
 "nbformat_minor": 5
}
